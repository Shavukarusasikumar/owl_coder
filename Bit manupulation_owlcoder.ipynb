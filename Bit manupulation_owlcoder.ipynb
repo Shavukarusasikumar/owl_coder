{
 "cells": [
  {
   "cell_type": "code",
   "execution_count": 7,
   "id": "876fa675",
   "metadata": {},
   "outputs": [
    {
     "name": "stdout",
     "output_type": "stream",
     "text": [
      "0\n"
     ]
    }
   ],
   "source": [
    "print((1<<2)&10)"
   ]
  },
  {
   "cell_type": "code",
   "execution_count": 8,
   "id": "62f8b12c",
   "metadata": {},
   "outputs": [
    {
     "data": {
      "text/plain": [
       "'0b1010'"
      ]
     },
     "execution_count": 8,
     "metadata": {},
     "output_type": "execute_result"
    }
   ],
   "source": [
    "bin(10)"
   ]
  },
  {
   "cell_type": "code",
   "execution_count": 1,
   "id": "35e04f2b",
   "metadata": {},
   "outputs": [
    {
     "name": "stdout",
     "output_type": "stream",
     "text": [
      "2\n"
     ]
    }
   ],
   "source": [
    "n=10\n",
    "c=0\n",
    "while n:\n",
    "    if n&1:\n",
    "        c+=1\n",
    "    n=n>>1\n",
    "print(c)"
   ]
  },
  {
   "cell_type": "code",
   "execution_count": 5,
   "id": "1b88337d",
   "metadata": {},
   "outputs": [
    {
     "data": {
      "text/plain": [
       "'0b1000'"
      ]
     },
     "execution_count": 5,
     "metadata": {},
     "output_type": "execute_result"
    }
   ],
   "source": [
    "m=~0\n",
    "m=m^((2**2)-1)\n",
    "m=m&10\n",
    "bin(m)"
   ]
  },
  {
   "cell_type": "code",
   "execution_count": 7,
   "id": "ed02a465",
   "metadata": {},
   "outputs": [
    {
     "data": {
      "text/plain": [
       "'0b110111'"
      ]
     },
     "execution_count": 7,
     "metadata": {},
     "output_type": "execute_result"
    }
   ],
   "source": [
    "bin(55)"
   ]
  },
  {
   "cell_type": "code",
   "execution_count": 44,
   "id": "9203db37",
   "metadata": {},
   "outputs": [
    {
     "name": "stdout",
     "output_type": "stream",
     "text": [
      "-32 3\n",
      "-0b100000 0b11\n",
      "35\n",
      "0b100011\n"
     ]
    }
   ],
   "source": [
    "i,j=2,4\n",
    "m=~0\n",
    "m=m^((2**(j+1))-1)\n",
    "n=(2**i)-1\n",
    "\n",
    "print(m,n)\n",
    "print(bin(m),bin(n))\n",
    "x=(m*-1)^n\n",
    "print(x)\n",
    "print(bin(x))"
   ]
  },
  {
   "cell_type": "code",
   "execution_count": 19,
   "id": "d39fa863",
   "metadata": {},
   "outputs": [
    {
     "data": {
      "text/plain": [
       "'0b11'"
      ]
     },
     "execution_count": 19,
     "metadata": {},
     "output_type": "execute_result"
    }
   ],
   "source": [
    "m=55\n",
    "k=(2**2)-1\n",
    "u bin(k)"
   ]
  },
  {
   "cell_type": "code",
   "execution_count": 56,
   "id": "61b2eaa3",
   "metadata": {},
   "outputs": [
    {
     "data": {
      "text/plain": [
       "'1000001'"
      ]
     },
     "execution_count": 56,
     "metadata": {},
     "output_type": "execute_result"
    }
   ],
   "source": [
    "x=99\n",
    "i,j=1,5\n",
    "m=~0\n",
    "m=m^((2**(j+1))-1)\n",
    "n=(2**i)-1\n",
    "n=x&n\n",
    "x=(m*-1)^n\n",
    "bin(x)[2:]"
   ]
  },
  {
   "cell_type": "code",
   "execution_count": 58,
   "id": "a6e9b66f",
   "metadata": {},
   "outputs": [
    {
     "data": {
      "text/plain": [
       "72057594037927936"
      ]
     },
     "execution_count": 58,
     "metadata": {},
     "output_type": "execute_result"
    }
   ],
   "source": [
    "i,j=2,4\n",
    "55"
   ]
  },
  {
   "cell_type": "code",
   "execution_count": 64,
   "id": "9df64767",
   "metadata": {
    "scrolled": true
   },
   "outputs": [
    {
     "name": "stdout",
     "output_type": "stream",
     "text": [
      "0b11110\n",
      "0b10110 0b10110\n"
     ]
    }
   ],
   "source": [
    "n=22\n",
    "n=n|(1<<3)\n",
    "print(bin(n))\n",
    "n=n^(1<<3)\n",
    "print(bin(22),bin(n))"
   ]
  },
  {
   "cell_type": "code",
   "execution_count": 70,
   "id": "57b37bef",
   "metadata": {},
   "outputs": [
    {
     "name": "stdout",
     "output_type": "stream",
     "text": [
      "10\n"
     ]
    }
   ],
   "source": [
    "n=10\n",
    "print(n&(n+1))"
   ]
  },
  {
   "cell_type": "code",
   "execution_count": 74,
   "id": "03f34526",
   "metadata": {},
   "outputs": [
    {
     "data": {
      "text/plain": [
       "6237"
      ]
     },
     "execution_count": 74,
     "metadata": {},
     "output_type": "execute_result"
    }
   ],
   "source": [
    "(4925^800)+(2912^800)"
   ]
  },
  {
   "cell_type": "code",
   "execution_count": null,
   "id": "783ad827",
   "metadata": {},
   "outputs": [],
   "source": [
    "s=\"01212\"\n",
    "i=0\n",
    "lst=[]\n",
    "x1=0^1^2\n",
    "f=False\n",
    "while i<len(s)-1:\n",
    "    a,b=int(s[i]),int(s[i+1])\n",
    "    if f:\n",
    "        if a==k:\n",
    "            d=i-d1\n",
    "            lst.append(d)\n",
    "            f=False\n",
    "            i+=1\n",
    "        elif b==k:\n",
    "            d=i+1-d1\n",
    "            lst.append(d)\n",
    "            f=False\n",
    "            i+=1\n",
    "    elif a!=b:\n",
    "        k=a^b^x1\n",
    "        d1=i\n",
    "        f=True\n",
    "        i+=1\n",
    "    else:\n",
    "        i+=1\n",
    "print(lst)"
   ]
  },
  {
   "cell_type": "code",
   "execution_count": 30,
   "id": "5863c8d6",
   "metadata": {
    "scrolled": true
   },
   "outputs": [
    {
     "name": "stdout",
     "output_type": "stream",
     "text": [
      "[1]\n"
     ]
    }
   ],
   "source": [
    "\"  0123456\"\n",
    "s=\"001210\"\n",
    "k=0^1^2\n",
    "i=0\n",
    "f=False\n",
    "lst=[]\n",
    "while True:\n",
    "#     print(i)\n",
    "    a,b=int(s[i]),int(s[i+1])\n",
    "    if f:\n",
    "        if x==a:\n",
    "            lst.append(i-d1)\n",
    "            f=False\n",
    "        elif x==b:\n",
    "            lst.append(i-d1)\n",
    "            f=False\n",
    "        else:\n",
    "            i+=1\n",
    "    if a!=b:\n",
    "        x=k^a^b\n",
    "        f=True\n",
    "        d1=i\n",
    "#         print(d1,'--->',end=' ')\n",
    "        i+=1\n",
    "    else:\n",
    "        i+=1\n",
    "    if i==len(s)-1:\n",
    "        break\n",
    "    \n",
    "    \n",
    "print(lst)"
   ]
  },
  {
   "cell_type": "code",
   "execution_count": 32,
   "id": "397761fc",
   "metadata": {},
   "outputs": [
    {
     "data": {
      "text/plain": [
       "0"
      ]
     },
     "execution_count": 32,
     "metadata": {},
     "output_type": "execute_result"
    }
   ],
   "source": [
    "1//3"
   ]
  },
  {
   "cell_type": "code",
   "execution_count": 44,
   "id": "83aa0d52",
   "metadata": {
    "scrolled": true
   },
   "outputs": [
    {
     "name": "stdout",
     "output_type": "stream",
     "text": [
      "1 2 3 4 5\n",
      "1\n",
      "[5, 4, 3, 2, 1]\n"
     ]
    }
   ],
   "source": [
    "a=list(map(int,input().split()))\n",
    "b=list(map(int,input().split()))\n",
    "lst=[]\n",
    "i,j=0,4\n",
    "while i<j:\n",
    "    a[i],a[j]=a[j],a[i]\n",
    "    i+=1\n",
    "    j-=1\n",
    "print(a)"
   ]
  },
  {
   "cell_type": "code",
   "execution_count": null,
   "id": "9c85fd1d",
   "metadata": {},
   "outputs": [
    {
     "name": "stdout",
     "output_type": "stream",
     "text": [
      "5\n",
      "5 1\n",
      "1 2 5 3 4\n",
      "6 2\n",
      "1 2 6 3 4 5\n"
     ]
    }
   ],
   "source": [
    "# cook your dish here\n",
    "for _ in range(int(input())):\n",
    "    n,x=map(int,input().split())\n",
    "    if x==0:\n",
    "        l=[i for i in range(1,n+1)]\n",
    "        print(*l)\n",
    "    elif n-2<x:\n",
    "        print(-1)\n",
    "    else:\n",
    "        p=n-2-x\n",
    "        l=[i for i in range(1,n)]\n",
    "        l.insert(p,n)\n",
    "        print(*l)"
   ]
  },
  {
   "cell_type": "code",
   "execution_count": 18,
   "id": "7eafc664",
   "metadata": {},
   "outputs": [
    {
     "name": "stdout",
     "output_type": "stream",
     "text": [
      "47 1 5 3\n",
      "1 111 0 100 00000000000000000000000\n",
      "227\n"
     ]
    }
   ],
   "source": [
    "x,p1,p2,n=map(int,input().split())\n",
    "x1=bin(x)[2:]\n",
    "k=31-len(x1)\n",
    "k='0'*k\n",
    "x1=k+x1\n",
    "x1=x1[::-1]\n",
    "l5=x1[:p1]\n",
    "l4=x1[p1:p1+n]\n",
    "l3=x1[p1+n:p2]\n",
    "l2=x1[p2:p2+n]\n",
    "l1=x1[p2+n:]\n",
    "print(l5,l4,l3,l2,l1)\n",
    "l=l1[::-1]+l4[::-1]+l3[::-1]+l2[::-1]+l5[::-1]\n",
    "print(int(\"\".join(l),2))"
   ]
  },
  {
   "cell_type": "code",
   "execution_count": null,
   "id": "92938da1",
   "metadata": {},
   "outputs": [],
   "source": [
    "left,right=1,2147483647\n",
    "k=left\n",
    "for i in range(left+1,right+1):\n",
    "    k=k&i\n",
    "print(k)"
   ]
  },
  {
   "cell_type": "code",
   "execution_count": 99,
   "id": "7394b5df",
   "metadata": {},
   "outputs": [
    {
     "name": "stdout",
     "output_type": "stream",
     "text": [
      "4\n",
      "4 2 ----> 6\n",
      "4 3 ----> 7\n",
      "4 4 ----> 0\n",
      "4 5 ----> 1\n",
      "4 6 ----> 2\n",
      "4 7 ----> 3\n",
      "4 8 ----> 12\n",
      "4 9 ----> 13\n"
     ]
    }
   ],
   "source": [
    "n=int(input())\n",
    "for i in range(2,10):\n",
    "    print(n,i,'---->',n^i)"
   ]
  },
  {
   "cell_type": "code",
   "execution_count": 90,
   "id": "369d038b",
   "metadata": {},
   "outputs": [
    {
     "name": "stdout",
     "output_type": "stream",
     "text": [
      "0\n",
      "1100100\n"
     ]
    }
   ],
   "source": [
    "print(bin(0)[2::])\n",
    "print(bin(100)[2::])"
   ]
  },
  {
   "cell_type": "code",
   "execution_count": 98,
   "id": "89c7a512",
   "metadata": {},
   "outputs": [
    {
     "name": "stdout",
     "output_type": "stream",
     "text": [
      "6 10\n",
      "0 63 63\n"
     ]
    }
   ],
   "source": [
    "a,b=map(int,input().split())\n",
    "x1=bin(a)[2:]\n",
    "x2=bin(b)[2:]\n",
    "x1=((len(x2)-len(x1))*'0')+x1\n",
    "f=True\n",
    "for i in range(len(x1)):\n",
    "    if x1[i]!=x2[i]:\n",
    "        if x2[i]=='0':\n",
    "            f=False\n",
    "        p=i\n",
    "        break\n",
    "if f:\n",
    "    e1=x1[:p+1]+('0'*((len(x1)-p+1)))\n",
    "    e2=x2[:p+1]+('1'*((len(x1)-p+1)))\n",
    "    y1,y2=int(e1,2),int(e2,2)\n",
    "    print(y1,y2,y1^y2)\n",
    "else:\n",
    "    e1=x1[:p+1]+('1'*((len(x1)-p+1)))\n",
    "    e2=x2[:p+1]+('0'*((len(x1)-p+1)))\n",
    "    y1,y2=int(e1,2),int(e2,2)\n",
    "    print(y1,y2,y1^y2)\n",
    "\n"
   ]
  },
  {
   "cell_type": "code",
   "execution_count": 8,
   "id": "dc91bbfd",
   "metadata": {},
   "outputs": [
    {
     "data": {
      "text/plain": [
       "1"
      ]
     },
     "execution_count": 8,
     "metadata": {},
     "output_type": "execute_result"
    }
   ],
   "source": [
    "3>>1"
   ]
  },
  {
   "cell_type": "code",
   "execution_count": 1,
   "id": "30ffcc2e",
   "metadata": {},
   "outputs": [
    {
     "data": {
      "text/plain": [
       "[0, 1]"
      ]
     },
     "execution_count": 1,
     "metadata": {},
     "output_type": "execute_result"
    }
   ],
   "source": [
    "x,y,l,r=44,3,1,5\n",
    "l=[]\n",
    "c=0\n",
    "while y:\n",
    "    if y&1:\n",
    "        l.append(c)\n",
    "    y=y>>1\n",
    "    c+=1\n",
    "l"
   ]
  },
  {
   "cell_type": "code",
   "execution_count": 19,
   "id": "6ed0d55f",
   "metadata": {},
   "outputs": [
    {
     "name": "stdout",
     "output_type": "stream",
     "text": [
      "8\n"
     ]
    }
   ],
   "source": [
    "def fun(n):\n",
    "    if n<=1:\n",
    "        return n\n",
    "    return fun(n-1)+fun(n-2)\n",
    "n=4\n",
    "print(fun(n+2))"
   ]
  },
  {
   "cell_type": "markdown",
   "id": "4c4362e5",
   "metadata": {},
   "source": [
    "# Day 5\n"
   ]
  },
  {
   "cell_type": "code",
   "execution_count": 10,
   "id": "25b1383a",
   "metadata": {},
   "outputs": [
    {
     "name": "stdout",
     "output_type": "stream",
     "text": [
      "4 4 7 2 2 7 1 1 7 [[1, 1, 1, 0, 0, 0, 0, 0, 0, 0, 0, 0, 0, 0, 0, 0, 0, 0, 0, 0, 0, 0, 0, 0, 0, 0, 0, 0, 0, 0, 0, 0], [1, 2, 1, 0, 0, 0, 0, 0, 0, 0, 0, 0, 0, 0, 0, 0, 0, 0, 0, 0, 0, 0, 0, 0, 0, 0, 0, 0, 0, 0, 0, 0], [2, 3, 2, 0, 0, 0, 0, 0, 0, 0, 0, 0, 0, 0, 0, 0, 0, 0, 0, 0, 0, 0, 0, 0, 0, 0, 0, 0, 0, 0, 0, 0], [2, 4, 2, 0, 0, 0, 0, 0, 0, 0, 0, 0, 0, 0, 0, 0, 0, 0, 0, 0, 0, 0, 0, 0, 0, 0, 0, 0, 0, 0, 0, 0], [3, 5, 2, 0, 0, 0, 0, 0, 0, 0, 0, 0, 0, 0, 0, 0, 0, 0, 0, 0, 0, 0, 0, 0, 0, 0, 0, 0, 0, 0, 0, 0], [4, 5, 2, 1, 0, 0, 0, 0, 0, 0, 0, 0, 0, 0, 0, 0, 0, 0, 0, 0, 0, 0, 0, 0, 0, 0, 0, 0, 0, 0, 0, 0]]\n"
     ]
    }
   ],
   "source": [
    "arr=[7,2,7,2,3,9]\n",
    "m = [[0] * 32 for _ in range(6)]\n",
    "for i in range(len(arr)):\n",
    "    for j in range(31, -1, -1):\n",
    "        if i==0:\n",
    "            if arr[i]&(1<<j):\n",
    "#                 print(i, j)\n",
    "                print(arr[i]&(1<<j), (1<<j), arr[i],end = \" \")\n",
    "                m[i][j]=1\n",
    "        else:\n",
    "            if arr[i]&(1<<j):\n",
    "                m[i][j]=m[i-1][j]+1\n",
    "            else:\n",
    "                m[i][ j]=m[i-1][j]\n",
    "\n",
    "# t=int(input())\n",
    "# s=0\n",
    "# while t:\n",
    "#     l,r=map(int,input().split())\n",
    "#     for i in range(31,-1,-1):\n",
    "#         if l>0:\n",
    "#             m[r][i]=m[r][i]-m[l-1][i]\n",
    "#         if m[r][i]==r-1+1:\n",
    "#             s+=2**(i)\n",
    "#     print(s)  \n",
    "#     t-=1\n",
    "# for i in range(len(m)):\n",
    "#     print(m[i])\n",
    "print(m)"
   ]
  },
  {
   "cell_type": "code",
   "execution_count": 2,
   "id": "a1bde640",
   "metadata": {},
   "outputs": [
    {
     "name": "stdout",
     "output_type": "stream",
     "text": [
      "1\n",
      "2 4\n",
      "0\n"
     ]
    }
   ],
   "source": []
  },
  {
   "cell_type": "code",
   "execution_count": 7,
   "id": "61f77f47",
   "metadata": {},
   "outputs": [
    {
     "name": "stdout",
     "output_type": "stream",
     "text": [
      "0 0 0 0 0 0 0 0 0 0 0 0 0 0 0 0 0 0 0 0 0 0 0 0 0 0 0 0 0 1 1 1 \n",
      "0 0 0 0 0 0 0 0 0 0 0 0 0 0 0 0 0 0 0 0 0 0 0 0 0 0 0 0 0 1 2 1 \n",
      "0 0 0 0 0 0 0 0 0 0 0 0 0 0 0 0 0 0 0 0 0 0 0 0 0 0 0 0 0 2 3 2 \n",
      "0 0 0 0 0 0 0 0 0 0 0 0 0 0 0 0 0 0 0 0 0 0 0 0 0 0 0 0 0 2 4 2 \n",
      "0 0 0 0 0 0 0 0 0 0 0 0 0 0 0 0 0 0 0 0 0 0 0 0 0 0 0 0 0 2 5 3 \n",
      "0 0 0 0 0 0 0 0 0 0 0 0 0 0 0 0 0 0 0 0 0 0 0 0 0 0 0 0 1 2 5 4 \n",
      "2\n"
     ]
    }
   ],
   "source": [
    "arr = [7, 2, 7, 2, 3, 9]\n",
    "mat = [[0] * 32 for _ in range(6)]\n",
    "\n",
    "for i in range(6):\n",
    "    for j in range(31, -1, -1):\n",
    "        if i == 0:\n",
    "            if arr[i] & (1 << j):\n",
    "                mat[i][j] = 1\n",
    "        else:\n",
    "            if arr[i] & (1 << j):\n",
    "                mat[i][j] = mat[i - 1][j] + 1\n",
    "            else:\n",
    "                mat[i][j]=mat[i - 1][j]\n",
    "\n",
    "for i in range(6):\n",
    "    for j in range(31, -1, -1):\n",
    "        print(mat[i][j], end=\" \")\n",
    "    print()\n",
    "for _ in range(int(input())):\n",
    "    l,r=map(int,input().split())\n",
    "    t = (r - l) + 1\n",
    "    s = 0\n",
    "    for i in range(len_val):\n",
    "        if l > 0:\n",
    "            mat[r][i] -= mat[l - 1][i]\n",
    "        if mat[r][i] == t:\n",
    "            s+=2**i\n",
    "\n",
    "    print(s)\n"
   ]
  },
  {
   "cell_type": "code",
   "execution_count": 15,
   "id": "b177c390",
   "metadata": {},
   "outputs": [
    {
     "name": "stdout",
     "output_type": "stream",
     "text": [
      "0 0 0 0 0 0 0 0 0 0 0 0 0 0 0 0 0 0 0 0 0 0 0 0 0 0 0 0 1 0 0 0 \n",
      "0 0 0 0 0 0 0 0 0 0 0 0 0 0 0 0 0 0 0 0 0 0 0 0 0 0 0 0 1 1 0 0 \n",
      "0 0 0 0 0 0 0 0 0 0 0 0 0 0 0 0 0 0 0 0 0 0 0 0 0 0 0 0 1 2 0 0 \n",
      "0 0 0 0 0 0 0 0 0 0 0 0 0 0 0 0 0 0 0 0 0 0 0 0 0 0 0 0 1 2 1 0 \n",
      "0 0 0 0 0 0 0 0 0 0 0 0 0 0 0 0 0 0 0 0 0 0 0 0 0 0 0 0 1 2 2 0 \n",
      "0 0 0 0 0 0 0 0 0 0 0 0 0 0 0 0 0 0 0 0 0 0 0 0 0 0 0 0 1 2 3 0 \n",
      "1\n",
      "2 4\n",
      "2\n"
     ]
    }
   ],
   "source": [
    "# arr = [7, 2, 7, 2, 3, 9]\n",
    "arr = [8,4,4,2,2,2]\n",
    "mat = [[0] * 32 for _ in range(6)]\n",
    "\n",
    "for i in range(6):\n",
    "    for j in range(31, -1, -1):\n",
    "        if i == 0:\n",
    "            if arr[i] & (1 << j):\n",
    "                mat[i][j] = 1\n",
    "        else:\n",
    "            if arr[i] & (1 << j):\n",
    "                mat[i][j] = mat[i - 1][j] + 1\n",
    "            else:\n",
    "                mat[i][j]=mat[i - 1][j]\n",
    "\n",
    "for i in range(6):\n",
    "    for j in range(31, -1, -1):\n",
    "        print(mat[i][j], end=\" \")\n",
    "    print()\n",
    "for _ in range(int(input())):\n",
    "    l,r=map(int,input().split())\n",
    "    t = (r - l) + 1\n",
    "    s = 0\n",
    "    for i in range(len_val):\n",
    "        if l>0:\n",
    "            m[i][j]=m[i][j]-m[i-1][j]\n",
    "        if m[i][j]>0:\n",
    "            s+=2**i\n",
    "\n",
    "    print(s)\n"
   ]
  },
  {
   "cell_type": "code",
   "execution_count": null,
   "id": "cb42574c",
   "metadata": {},
   "outputs": [
    {
     "name": "stdout",
     "output_type": "stream",
     "text": [
      "[[0, 0, 0, 0, 0, 0, 0, 0, 0, 0, 0, 0, 0, 0, 0, 0, 0, 0, 0, 0, 0, 0, 0, 0, 0, 0, 0, 0, 0, 1, 1, 1], [0, 0, 0, 0, 0, 0, 0, 0, 0, 0, 0, 0, 0, 0, 0, 0, 0, 0, 0, 0, 0, 0, 0, 0, 0, 0, 0, 0, 0, 1, 2, 1], [0, 0, 0, 0, 0, 0, 0, 0, 0, 0, 0, 0, 0, 0, 0, 0, 0, 0, 0, 0, 0, 0, 0, 0, 0, 0, 0, 0, 0, 2, 3, 2], [0, 0, 0, 0, 0, 0, 0, 0, 0, 0, 0, 0, 0, 0, 0, 0, 0, 0, 0, 0, 0, 0, 0, 0, 0, 0, 0, 0, 0, 2, 4, 2], [0, 0, 0, 0, 0, 0, 0, 0, 0, 0, 0, 0, 0, 0, 0, 0, 0, 0, 0, 0, 0, 0, 0, 0, 0, 0, 0, 0, 0, 2, 5, 3], [0, 0, 0, 0, 0, 0, 0, 0, 0, 0, 0, 0, 0, 0, 0, 0, 0, 0, 0, 0, 0, 0, 0, 0, 0, 0, 0, 0, 1, 2, 5, 4]]\n",
      "2 4\n",
      "2\n",
      "0 2\n",
      "2\n"
     ]
    }
   ],
   "source": [
    "arr = list(map(int,input().split()))\n",
    "# for i in range(3):\n",
    "#     l,r = map(int,input().split())\n",
    "#     c = arr[l]\n",
    "#     for j in range(l+1,r+1):\n",
    "#         c&=arr[j]\n",
    "#     print(c)\n",
    "l = []\n",
    "for i in range(len(arr)):\n",
    "    l.append([0]*32)\n",
    "for i in range(len(arr)) :\n",
    "    c = -1 # pos\n",
    "    n = 1 # \n",
    "    k= 32\n",
    "    while k :\n",
    "        p = arr[i]&n\n",
    "        arr[i]>>=1\n",
    "        if i>0:# 1\n",
    "            l[i][c] = p+l[i-1][c] # 1 + 1\n",
    "            c-=1\n",
    "        else:\n",
    "            l[i][c] = p\n",
    "            c-=1\n",
    "        k-=1\n",
    "print(l)\n",
    "for i in range(3):\n",
    "    L,r = map(int,input().split())\n",
    "    if L == 0 :\n",
    "        k = r+1\n",
    "        c = 0 \n",
    "        two=0\n",
    "        for i in range(31,-1,-1):\n",
    "            if l[r][i] == k:\n",
    "                two+=2**c\n",
    "            c+=1\n",
    "        print(two)\n",
    "    else:\n",
    "        c = 0 \n",
    "        two = 0\n",
    "        for i in range(31,-1,-1):\n",
    "            # print(l[r][i],l[L-1][i])\n",
    "            # break\n",
    "            if l[r][i]-l[L-1][i] == r-L+1:\n",
    "                \n",
    "                two+=2**c\n",
    "            c+=1\n",
    "        print(two)"
   ]
  }
 ],
 "metadata": {
  "kernelspec": {
   "display_name": "Python 3 (ipykernel)",
   "language": "python",
   "name": "python3"
  },
  "language_info": {
   "codemirror_mode": {
    "name": "ipython",
    "version": 3
   },
   "file_extension": ".py",
   "mimetype": "text/x-python",
   "name": "python",
   "nbconvert_exporter": "python",
   "pygments_lexer": "ipython3",
   "version": "3.9.12"
  }
 },
 "nbformat": 4,
 "nbformat_minor": 5
}
