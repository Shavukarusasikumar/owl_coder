{
 "cells": [
  {
   "cell_type": "code",
   "execution_count": 21,
   "id": "f93b1d74",
   "metadata": {},
   "outputs": [
    {
     "name": "stdout",
     "output_type": "stream",
     "text": [
      "1 5\n",
      "1 ----> 1\n",
      "2 ----> 1\n",
      "3 ----> 2\n",
      "4 ----> 3\n",
      "5 ----> 2\n",
      "9\n"
     ]
    }
   ],
   "source": [
    "def fun(n):\n",
    "    c=0\n",
    "    prime_factors = 0\n",
    "    \n",
    "    while n % 2 == 0:\n",
    "        prime_factors+=1\n",
    "        n //= 2\n",
    "    i = 3\n",
    "    while i * i <= n:\n",
    "        while n % i == 0:\n",
    "            prime_factors+=1\n",
    "            n //= i\n",
    "        i += 2\n",
    "\n",
    "    if n > 2:\n",
    "        prime_factors+=1\n",
    "\n",
    "    return prime_factors\n",
    "\n",
    "# Example\n",
    "a,b=map(int,input().split())\n",
    "c=0\n",
    "for i in range(a,b+1):\n",
    "    print(i,'---->',fun(i))\n",
    "    c+=fun(i)\n",
    "print(c)"
   ]
  },
  {
   "cell_type": "code",
   "execution_count": 15,
   "id": "7b7236dd",
   "metadata": {},
   "outputs": [
    {
     "name": "stdout",
     "output_type": "stream",
     "text": [
      "[2, 3, 5, 7]\n"
     ]
    }
   ],
   "source": [
    "def sieve_of_eratosthenes(limit):\n",
    "    # Create a boolean list \"is_prime\" to track whether each number is prime\n",
    "    is_prime = [True] * (limit + 1)\n",
    "    \n",
    "    # 0 and 1 are not prime, so set their flags to False\n",
    "    is_prime[0] = is_prime[1] = False\n",
    "    \n",
    "    # Iterate over the numbers from 2 to the square root of the limit\n",
    "    for i in range(2, int(limit**0.5) + 1):\n",
    "        # If the current number is marked as prime\n",
    "        if is_prime[i]:\n",
    "            # Mark all multiples of the current prime as not prime\n",
    "            for j in range(i*i, limit + 1, i):\n",
    "                is_prime[j] = False\n",
    "    \n",
    "    # Collect the prime numbers into a list\n",
    "    primes = [num for num in range(2, limit + 1) if is_prime[num]]\n",
    "    \n",
    "    return primes\n",
    "\n",
    "# Example usage: Find all primes up to 30\n",
    "limit = 10\n",
    "result = sieve_of_eratosthenes(limit)\n",
    "print(result)\n"
   ]
  },
  {
   "cell_type": "code",
   "execution_count": 17,
   "id": "bc965f9f",
   "metadata": {},
   "outputs": [
    {
     "name": "stdout",
     "output_type": "stream",
     "text": [
      "[2, 3, 5, 7]\n"
     ]
    }
   ],
   "source": [
    "def fun(n):\n",
    "    prime=[1]*(n+1)\n",
    "    prime[0]=prime[1]=0\n",
    "    for i in range(2,int(n**0.5)+1):\n",
    "        if prime[i]==1:\n",
    "            for j in range(i*i,n+1,i):\n",
    "                prime[j]=0\n",
    "    prime=[i for i in range(2,n+1) if prime[i]==1]\n",
    "    return prime\n",
    "print(fun(10))\n"
   ]
  },
  {
   "cell_type": "code",
   "execution_count": 27,
   "id": "6ca46764",
   "metadata": {},
   "outputs": [
    {
     "name": "stdout",
     "output_type": "stream",
     "text": [
      "10000\n",
      "83669\n"
     ]
    }
   ],
   "source": [
    "def fun(n):\n",
    "    c=1\n",
    "    for i in range(2,n):\n",
    "        if n%i==0:\n",
    "            c+=1\n",
    "    return c\n",
    "n=int(input())\n",
    "c=0\n",
    "for i in range(1,n+1):\n",
    "    c+=fun(i)\n",
    "print(c)"
   ]
  },
  {
   "cell_type": "code",
   "execution_count": 28,
   "id": "afb86496",
   "metadata": {},
   "outputs": [
    {
     "name": "stdout",
     "output_type": "stream",
     "text": [
      "4\n",
      "1 2 3 4\n",
      "\n"
     ]
    }
   ],
   "source": [
    "n=int(input())\n",
    "l=list(map(int,input().split()))\n",
    "z=0\n",
    "k=-1\n",
    "p=1\n",
    "for i in range(n):\n",
    "    if l[i]==0:\n",
    "        k=i\n",
    "        z+=1\n",
    "    else:\n",
    "        p*=l[i]\n",
    "if z>1:\n",
    "    ans=[0]*n\n",
    "    print(*ans)\n",
    "elif z==1:\n",
    "    ans=[0]*n\n",
    "    ans[k]=p\n",
    "    print(*ans)\n",
    "else:\n",
    "    ans=[]\n",
    "    for i in range(n):\n",
    "        l.append(p//l[i])\n",
    "    print(*ans)"
   ]
  },
  {
   "cell_type": "code",
   "execution_count": 2,
   "id": "bfa91f5c",
   "metadata": {},
   "outputs": [
    {
     "data": {
      "text/plain": [
       "25"
      ]
     },
     "execution_count": 2,
     "metadata": {},
     "output_type": "execute_result"
    }
   ],
   "source": [
    "52"
   ]
  },
  {
   "cell_type": "code",
   "execution_count": 8,
   "id": "b3aa6bd3",
   "metadata": {},
   "outputs": [
    {
     "name": "stdout",
     "output_type": "stream",
     "text": [
      "23\n"
     ]
    }
   ],
   "source": [
    "def find_consecutive(nums):\n",
    "    ans = nums[0]\n",
    "    i = 1\n",
    "\n",
    "    while i < len(nums):\n",
    "        if nums[i] == nums[i - 1] + 1:\n",
    "            ans += nums[i]\n",
    "        else:\n",
    "            break\n",
    "        i += 1\n",
    "\n",
    "    mpp = {}\n",
    "    for i in range(len(nums)):\n",
    "        mpp[nums[j]] = mpp.get(nums[i], 0) + 1\n",
    "\n",
    "    while ans in mpp:\n",
    "        ans += 1\n",
    "\n",
    "    return mpp\n",
    "\n",
    "# Example usage:\n",
    "nums = [4,5,6,1,12,13,15,14]\n",
    "result = find_consecutive(nums)\n",
    "print(result)\n"
   ]
  },
  {
   "cell_type": "code",
   "execution_count": null,
   "id": "3d449b05",
   "metadata": {},
   "outputs": [],
   "source": [
    "def countBits(nums, k):\n",
    "    v = [0] * 32\n",
    "\n",
    "    for i in range(32):\n",
    "        for j in range(len(nums)):\n",
    "            if nums[j] & (1 << i):\n",
    "                v[i] += 1\n",
    "\n",
    "    op = 0\n",
    "    for i in range(32):\n",
    "        if v[i] % 2 != 0:\n",
    "            if k & (1 << i):\n",
    "                continue\n",
    "            else:\n",
    "                op += 1\n",
    "        else:\n",
    "            if k & (1 << i):\n",
    "                op += 1\n",
    "\n",
    "    return op\n"
   ]
  }
 ],
 "metadata": {
  "kernelspec": {
   "display_name": "Python 3 (ipykernel)",
   "language": "python",
   "name": "python3"
  },
  "language_info": {
   "codemirror_mode": {
    "name": "ipython",
    "version": 3
   },
   "file_extension": ".py",
   "mimetype": "text/x-python",
   "name": "python",
   "nbconvert_exporter": "python",
   "pygments_lexer": "ipython3",
   "version": "3.9.12"
  }
 },
 "nbformat": 4,
 "nbformat_minor": 5
}
